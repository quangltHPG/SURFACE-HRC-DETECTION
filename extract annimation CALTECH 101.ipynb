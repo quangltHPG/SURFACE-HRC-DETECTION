{
 "cells": [
  {
   "cell_type": "code",
   "execution_count": 21,
   "id": "2bca1d38",
   "metadata": {},
   "outputs": [],
   "source": [
    "def extract_mat_contents(annot_directory, image_dir):\n",
    "        \n",
    "        # Create MAT Parser\n",
    "        mat = scipy.io.loadmat(annot_directory)\n",
    "\n",
    "        # Get the height and width for our image\n",
    "        height, width = cv2.imread(image_dir).shape[:2]\n",
    "\n",
    "        # Get the bounding box co-ordinates\n",
    "        x1, y2, y1, x2 = tuple(map(tuple, mat['box_coord']))[0]\n",
    "\n",
    "        # We Split the image Directory passed in the method and choose the index\n",
    "        # Of the Folders name which is the same as it's class\n",
    "        #print (image_dir)\n",
    "        class_name = image_dir.split(\"/\")[2]\n",
    "\n",
    "        filename = '/'.join(image_dir.split('/')[-2:])\n",
    "\n",
    "        # Return the extracted attributes\n",
    "        return filename,  width, height, class_name, x1,y1,x2,y2"
   ]
  },
  {
   "cell_type": "code",
   "execution_count": 24,
   "id": "b3c4d8c0",
   "metadata": {},
   "outputs": [],
   "source": [
    "# Function to convert MAT files to CSV\n",
    "def mat_to_csv(annot_directory, image_directory, classes_folders):\n",
    "\n",
    "  # List containing all our attributes regarding each image\n",
    "  mat_list = []\n",
    "\n",
    "  # We loop our each class and its labels one by one to preprocess and augment \n",
    "  for class_folder in classes_folders:\n",
    "\n",
    "    # Set our images and annotations directory\n",
    "    image_dir = os.path.join(image_directory, class_folder)\n",
    "    annot_dir = os.path.join(annot_directory, class_folder) \n",
    "\n",
    "    # Get each file in the image and annotation directory\n",
    "    mat_files = sorted(os.listdir(annot_dir))\n",
    "    img_files = sorted(os.listdir(image_dir))\n",
    "\n",
    "    # Loop over each of the image and its label\n",
    "    for mat, image_file in zip(mat_files, img_files):\n",
    "      \n",
    "      # Full mat path\n",
    "      mat_path = os.path.join(annot_dir, mat)\n",
    "\n",
    "      # Full path Image\n",
    "      img_path = os.path.join(image_dir, image_file)\n",
    "\n",
    "      # Get Attributes for each image \n",
    "      value = extract_mat_contents(mat_path, img_path)\n",
    "\n",
    "      # Append the attributes to the mat_list\n",
    "      mat_list.append(value)\n",
    "\n",
    "  # Columns for Pandas DataFrame\n",
    "  column_name = ['filename', 'width', 'height', 'class', 'xmin', 'ymin', \n",
    "                 'xmax', 'ymax']\n",
    "\n",
    "  # Create the DataFrame from mat_list\n",
    "  mat_df = pd.DataFrame(mat_list, columns=column_name)\n",
    "\n",
    "  # Return the dataframe\n",
    "  return mat_df\n",
    "\n",
    "# The Classes we will use for our training\n",
    "classes_list = sorted(['butterfly',  'cougar_face', 'elephant'])\n",
    "\n",
    "# Set our images and annotations directory\n",
    "image_directory = r\"C:/Users/HPDQ/Downloads/101_ObjectCategories\"\n",
    "annot_directory = r\"C:/Users/HPDQ/Downloads/Annotations\"\n",
    "\n",
    "# Run the function to convert all the MAT files to a Pandas DataFrame\n",
    "labels_df = mat_to_csv(annot_directory, image_directory, classes_list)\n",
    "\n",
    "# Saving the Pandas DataFrame as CSV File\n",
    "labels_df.to_csv(('labels.csv'), index=None)"
   ]
  },
  {
   "cell_type": "code",
   "execution_count": 23,
   "id": "28ca1254",
   "metadata": {},
   "outputs": [],
   "source": [
    "import os\n",
    "import scipy\n",
    "import scipy.io\n",
    "import cv2\n",
    "import pandas as pd"
   ]
  },
  {
   "cell_type": "code",
   "execution_count": null,
   "id": "f3ac698b",
   "metadata": {},
   "outputs": [],
   "source": []
  },
  {
   "cell_type": "code",
   "execution_count": null,
   "id": "2a25a3fc",
   "metadata": {},
   "outputs": [],
   "source": []
  }
 ],
 "metadata": {
  "kernelspec": {
   "display_name": "Python 3 (ipykernel)",
   "language": "python",
   "name": "python3"
  },
  "language_info": {
   "codemirror_mode": {
    "name": "ipython",
    "version": 3
   },
   "file_extension": ".py",
   "mimetype": "text/x-python",
   "name": "python",
   "nbconvert_exporter": "python",
   "pygments_lexer": "ipython3",
   "version": "3.8.5"
  }
 },
 "nbformat": 4,
 "nbformat_minor": 5
}
