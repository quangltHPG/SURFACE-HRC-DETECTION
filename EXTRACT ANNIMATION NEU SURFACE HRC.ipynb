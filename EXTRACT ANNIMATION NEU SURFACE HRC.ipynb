{
 "cells": [
  {
   "cell_type": "code",
   "execution_count": 1,
   "id": "e308f955",
   "metadata": {},
   "outputs": [],
   "source": [
    "from bs4 import BeautifulSoup \n"
   ]
  },
  {
   "cell_type": "code",
   "execution_count": 18,
   "id": "8980f53d",
   "metadata": {},
   "outputs": [],
   "source": [
    "with open('crazing_9.xml', 'r') as f:\n",
    "    data = f.read() \n",
    "\n",
    "# Passing the stored data inside the beautifulsoup parser \n",
    "bs_data = BeautifulSoup(data, 'xml') \n",
    "\n",
    "# Finding all instances of tag   \n",
    "b_unique = bs_data.find('filename') \n",
    "print(b_unique.text.strip())\n",
    "# Using find() to extract attributes of the first instance of the tag \n",
    "b_name = bs_data.find_all('object') \n"
   ]
  },
  {
   "cell_type": "code",
   "execution_count": null,
   "id": "41471972",
   "metadata": {},
   "outputs": [],
   "source": []
  },
  {
   "cell_type": "code",
   "execution_count": null,
   "id": "9404883d",
   "metadata": {},
   "outputs": [],
   "source": []
  },
  {
   "cell_type": "code",
   "execution_count": null,
   "id": "b1e98473",
   "metadata": {},
   "outputs": [],
   "source": []
  },
  {
   "cell_type": "code",
   "execution_count": 34,
   "id": "ca40209a",
   "metadata": {},
   "outputs": [],
   "source": [
    "resultFilename = []\n",
    "resultXmin = []\n",
    "resultYmin = []\n",
    "resultXmax = []\n",
    "resultYmax = []\n",
    "for th in b_name:\n",
    "    resultFilename.append(b_unique.text.strip())\n",
    "    resultXmin.extend(th.find_all('xmin'))\n",
    "    resultYmin.extend(th.find_all('ymin'))\n",
    "    resultXmax.extend(th.find_all('xmax'))\n",
    "    resultYmax.extend(th.find_all('ymax'))\n",
    "Xmin = []\n",
    "Ymin = []\n",
    "Xmax = []\n",
    "Ymax = []\n",
    "\n",
    "\n",
    "for _result in resultXmin:\n",
    "    value = _result.contents[0]\n",
    "    Xmin.append(value)\n",
    "for _result in resultYmin:\n",
    "    value = _result.contents[0]\n",
    "    Ymin.append(value)\n",
    "for _result in resultXmax:\n",
    "    value = _result.contents[0]\n",
    "    Xmax.append(value)\n",
    "for _result in resultYmax:\n",
    "    value = _result.contents[0]\n",
    "    Ymax.append(value)"
   ]
  },
  {
   "cell_type": "code",
   "execution_count": 35,
   "id": "aa8d71ac",
   "metadata": {},
   "outputs": [
    {
     "name": "stdout",
     "output_type": "stream",
     "text": [
      "['crazing_9.jpg', 'crazing_9.jpg']\n",
      "['1', '130']\n",
      "['24', '1']\n",
      "['121', '200']\n",
      "['74', '83']\n"
     ]
    }
   ],
   "source": [
    "print (resultFilename)\n",
    "print (Xmin)\n",
    "print (Ymin)\n",
    "print (Xmax)\n",
    "print (Ymax)"
   ]
  },
  {
   "cell_type": "code",
   "execution_count": 5,
   "id": "06398d5d",
   "metadata": {},
   "outputs": [],
   "source": [
    "result = []\n",
    "for th in b_name:\n",
    "    result.extend(th.find_all('ymin'))\n",
    "for _result in result:\n",
    "    value = _result.contents[0]\n",
    "    value"
   ]
  },
  {
   "cell_type": "code",
   "execution_count": 6,
   "id": "f75479ff",
   "metadata": {},
   "outputs": [],
   "source": [
    "result = []\n",
    "for th in b_name:\n",
    "    result.extend(th.find_all('xmax'))\n",
    "for _result in result:\n",
    "    value = _result.contents[0]\n",
    "    value"
   ]
  },
  {
   "cell_type": "code",
   "execution_count": 7,
   "id": "6bcbc3ad",
   "metadata": {},
   "outputs": [],
   "source": [
    "result = []\n",
    "for th in b_name:\n",
    "    result.extend(th.find_all('ymax'))\n",
    "for _result in result:\n",
    "    value = _result.contents[0]\n",
    "    value"
   ]
  },
  {
   "cell_type": "code",
   "execution_count": 8,
   "id": "99b728e8",
   "metadata": {},
   "outputs": [
    {
     "data": {
      "text/plain": [
       "'83'"
      ]
     },
     "execution_count": 8,
     "metadata": {},
     "output_type": "execute_result"
    }
   ],
   "source": [
    "value"
   ]
  },
  {
   "cell_type": "code",
   "execution_count": null,
   "id": "d6119491",
   "metadata": {},
   "outputs": [],
   "source": []
  },
  {
   "cell_type": "code",
   "execution_count": null,
   "id": "9d614d0a",
   "metadata": {},
   "outputs": [],
   "source": []
  },
  {
   "cell_type": "code",
   "execution_count": null,
   "id": "2d386ef1",
   "metadata": {},
   "outputs": [],
   "source": []
  },
  {
   "cell_type": "code",
   "execution_count": 79,
   "id": "9345acd9",
   "metadata": {},
   "outputs": [
    {
     "data": {
      "text/plain": [
       "[]"
      ]
     },
     "execution_count": 79,
     "metadata": {},
     "output_type": "execute_result"
    }
   ],
   "source": [
    "result"
   ]
  },
  {
   "cell_type": "code",
   "execution_count": 80,
   "id": "bcdf97c6",
   "metadata": {},
   "outputs": [
    {
     "ename": "AttributeError",
     "evalue": "'list' object has no attribute 'get'",
     "output_type": "error",
     "traceback": [
      "\u001b[1;31m---------------------------------------------------------------------------\u001b[0m",
      "\u001b[1;31mAttributeError\u001b[0m                            Traceback (most recent call last)",
      "\u001b[1;32m<ipython-input-80-3b99b8bfa620>\u001b[0m in \u001b[0;36m<module>\u001b[1;34m\u001b[0m\n\u001b[1;32m----> 1\u001b[1;33m \u001b[0mvalue\u001b[0m \u001b[1;33m=\u001b[0m \u001b[0mresult\u001b[0m\u001b[1;33m.\u001b[0m\u001b[0mget\u001b[0m\u001b[1;33m(\u001b[0m\u001b[1;34m'xmin'\u001b[0m\u001b[1;33m)\u001b[0m\u001b[1;33m\u001b[0m\u001b[1;33m\u001b[0m\u001b[0m\n\u001b[0m",
      "\u001b[1;31mAttributeError\u001b[0m: 'list' object has no attribute 'get'"
     ]
    }
   ],
   "source": [
    "value = result.get('xmin') "
   ]
  },
  {
   "cell_type": "code",
   "execution_count": 38,
   "id": "892dc25d",
   "metadata": {},
   "outputs": [
    {
     "data": {
      "text/plain": [
       "list"
      ]
     },
     "execution_count": 38,
     "metadata": {},
     "output_type": "execute_result"
    }
   ],
   "source": [
    "type(result)"
   ]
  },
  {
   "cell_type": "code",
   "execution_count": 41,
   "id": "1e04c477",
   "metadata": {},
   "outputs": [],
   "source": [
    "_result = result[0]"
   ]
  },
  {
   "cell_type": "code",
   "execution_count": 42,
   "id": "2d95ea69",
   "metadata": {},
   "outputs": [
    {
     "data": {
      "text/plain": [
       "bs4.element.Tag"
      ]
     },
     "execution_count": 42,
     "metadata": {},
     "output_type": "execute_result"
    }
   ],
   "source": [
    "type(_result)"
   ]
  },
  {
   "cell_type": "code",
   "execution_count": 52,
   "id": "9c6e0089",
   "metadata": {},
   "outputs": [
    {
     "data": {
      "text/plain": [
       "<xmin>1</xmin>"
      ]
     },
     "execution_count": 52,
     "metadata": {},
     "output_type": "execute_result"
    }
   ],
   "source": [
    "_result"
   ]
  },
  {
   "cell_type": "code",
   "execution_count": 53,
   "id": "2fedc898",
   "metadata": {},
   "outputs": [
    {
     "data": {
      "text/plain": [
       "bs4.element.Tag"
      ]
     },
     "execution_count": 53,
     "metadata": {},
     "output_type": "execute_result"
    }
   ],
   "source": [
    "type(_result)"
   ]
  },
  {
   "cell_type": "code",
   "execution_count": 54,
   "id": "bdd548be",
   "metadata": {},
   "outputs": [
    {
     "data": {
      "text/plain": [
       "'1'"
      ]
     },
     "execution_count": 54,
     "metadata": {},
     "output_type": "execute_result"
    }
   ],
   "source": [
    "value = _result.contents[0]\n",
    "value"
   ]
  },
  {
   "cell_type": "code",
   "execution_count": 55,
   "id": "221b9bcd",
   "metadata": {},
   "outputs": [
    {
     "data": {
      "text/plain": [
       "bs4.element.NavigableString"
      ]
     },
     "execution_count": 55,
     "metadata": {},
     "output_type": "execute_result"
    }
   ],
   "source": [
    "type(value)"
   ]
  },
  {
   "cell_type": "code",
   "execution_count": 59,
   "id": "b8300ca9",
   "metadata": {},
   "outputs": [],
   "source": [
    "_value = int(value)"
   ]
  },
  {
   "cell_type": "code",
   "execution_count": 60,
   "id": "3dabdc43",
   "metadata": {},
   "outputs": [
    {
     "data": {
      "text/plain": [
       "1"
      ]
     },
     "execution_count": 60,
     "metadata": {},
     "output_type": "execute_result"
    }
   ],
   "source": [
    "_value"
   ]
  },
  {
   "cell_type": "code",
   "execution_count": 61,
   "id": "c7953d03",
   "metadata": {},
   "outputs": [
    {
     "data": {
      "text/plain": [
       "int"
      ]
     },
     "execution_count": 61,
     "metadata": {},
     "output_type": "execute_result"
    }
   ],
   "source": [
    "type(_value)"
   ]
  },
  {
   "cell_type": "code",
   "execution_count": 38,
   "id": "adeb65c1",
   "metadata": {},
   "outputs": [
    {
     "name": "stdout",
     "output_type": "stream",
     "text": [
      "['.ipynb_checkpoints', 'crazing_1.jpg', 'crazing_1.xml', 'crazing_10.jpg', 'crazing_10.xml', 'crazing_2.jpg', 'crazing_2.xml', 'crazing_3.jpg', 'crazing_3.xml', 'crazing_4.jpg', 'crazing_4.xml', 'crazing_5.jpg', 'crazing_5.xml', 'crazing_6.jpg', 'crazing_6.xml', 'crazing_7.jpg', 'crazing_7.xml', 'crazing_8.jpg', 'crazing_8.xml', 'crazing_9.jpg', 'crazing_9.xml', 'extract annimation CALTECH 101.ipynb', 'EXTRACT ANNIMATION NEU SURFACE HRC.ipynb', 'neusteeldefectdetection.zip']\n",
      ".ipynb_checkpoints\n",
      "crazing_1.jpg\n",
      "crazing_1.xml\n",
      "crazing_10.jpg\n",
      "crazing_10.xml\n",
      "crazing_2.jpg\n",
      "crazing_2.xml\n",
      "crazing_3.jpg\n",
      "crazing_3.xml\n",
      "crazing_4.jpg\n",
      "crazing_4.xml\n",
      "crazing_5.jpg\n",
      "crazing_5.xml\n",
      "crazing_6.jpg\n",
      "crazing_6.xml\n",
      "crazing_7.jpg\n",
      "crazing_7.xml\n",
      "crazing_8.jpg\n",
      "crazing_8.xml\n",
      "crazing_9.jpg\n",
      "crazing_9.xml\n",
      "extract annimation CALTECH 101.ipynb\n",
      "EXTRACT ANNIMATION NEU SURFACE HRC.ipynb\n",
      "neusteeldefectdetection.zip\n"
     ]
    }
   ],
   "source": [
    "import os\n",
    "\n",
    "files = os.listdir('.')\n",
    "print(files)\n",
    "for file in files:\n",
    "    print(file)"
   ]
  },
  {
   "cell_type": "code",
   "execution_count": 27,
   "id": "65ea7c7e",
   "metadata": {},
   "outputs": [],
   "source": [
    "from bs4 import BeautifulSoup\n",
    "import os\n",
    "import pandas as pd\n",
    "files = os.listdir('./crazing')\n",
    "resultName = []\n",
    "resultFilename = []\n",
    "resultXmin = []\n",
    "resultYmin = []\n",
    "resultXmax = []\n",
    "resultYmax = []\n",
    "Xmin = []\n",
    "Ymin = []\n",
    "Xmax = []\n",
    "Ymax = []\n",
    "for file in files:\n",
    "    file = os.path.join('crazing', file)\n",
    "    with open(file, 'r') as f:\n",
    "        data = f.read() \n",
    "    bs_data = BeautifulSoup(data, 'xml')   \n",
    "    b_unique = bs_data.find('filename') \n",
    "    b_name = bs_data.find_all('object')\n",
    "    \n",
    "    _resultFilename = []\n",
    "    _resultName = []\n",
    "    _resultXmin = []\n",
    "    _resultYmin = []\n",
    "    _resultXmax = []\n",
    "    _resultYmax = []    \n",
    "    for th in b_name:\n",
    "        _resultName.extend(th.find_all('name'))\n",
    "        _resultXmin.extend(th.find_all('xmin'))\n",
    "        _resultYmin.extend(th.find_all('ymin'))\n",
    "        _resultXmax.extend(th.find_all('xmax'))\n",
    "        _resultYmax.extend(th.find_all('ymax'))\n",
    "    for _result in _resultName:\n",
    "        value = _result.contents[0]\n",
    "        resultName.append(value)\n",
    "    for _result in _resultXmin:\n",
    "        resultFilename.append(b_unique.text.strip())\n",
    "        value = _result.contents[0]\n",
    "        Xmin.append(value)\n",
    "    for _result in _resultYmin:\n",
    "        value = _result.contents[0]\n",
    "        Ymin.append(value)\n",
    "    for _result in _resultXmax:\n",
    "        value = _result.contents[0]\n",
    "        Xmax.append(value)\n",
    "    for _result in _resultYmax:\n",
    "        value = _result.contents[0]\n",
    "        Ymax.append(value)\n",
    "df = pd.DataFrame({\n",
    "                        'resultFilename':resultFilename,\n",
    "                        'resultname':resultName,\n",
    "                        'Xmin':Xmin,\n",
    "                        'Ymin':Ymin,\n",
    "                        'Xmax': Xmax,\n",
    "                        'Ymax':Ymax})\n",
    "df.to_csv(\"HRC.csv\")"
   ]
  },
  {
   "cell_type": "code",
   "execution_count": 28,
   "id": "f5f6906d",
   "metadata": {},
   "outputs": [
    {
     "name": "stdout",
     "output_type": "stream",
     "text": [
      "['crazing_1.jpg', 'crazing_10.jpg', 'crazing_10.jpg', 'crazing_2.jpg', 'crazing_2.jpg', 'crazing_3.jpg', 'crazing_4.jpg', 'crazing_4.jpg', 'crazing_5.jpg', 'crazing_5.jpg', 'crazing_6.jpg', 'crazing_6.jpg', 'crazing_7.jpg', 'crazing_7.jpg', 'crazing_8.jpg', 'crazing_8.jpg', 'crazing_9.jpg', 'crazing_9.jpg']\n",
      "['crazing', 'crazing', 'crazing', 'crazing', 'crazing', 'crazing', 'crazing', 'crazing', 'crazing', 'crazing', 'crazing', 'crazing', 'crazing', 'crazing', 'crazing', 'crazing', 'crazing', 'crazing']\n",
      "['2', '60', '9', '99', '8', '10', '10', '15', '1', '15', '27', '11', '1', '1', '1', '1', '1', '130']\n",
      "['2', '20', '84', '120', '16', '97', '3', '110', '113', '4', '3', '89', '68', '2', '26', '121', '24', '1']\n",
      "['193', '194', '197', '200', '200', '200', '197', '197', '199', '199', '196', '119', '187', '200', '179', '176', '121', '200']\n",
      "['194', '69', '198', '174', '111', '181', '108', '198', '176', '102', '45', '199', '163', '65', '118', '200', '74', '83']\n"
     ]
    }
   ],
   "source": [
    "print (resultFilename)\n",
    "print (resultName)\n",
    "print (Xmin)\n",
    "print (Ymin)\n",
    "print (Xmax)\n",
    "print (Ymax)"
   ]
  },
  {
   "cell_type": "code",
   "execution_count": 29,
   "id": "a2f0adf1",
   "metadata": {},
   "outputs": [],
   "source": [
    "\n",
    "df = pd.DataFrame({\n",
    "                        'resultFilename':resultFilename,\n",
    "                        'resultname':resultName,\n",
    "                        'Xmin':Xmin,\n",
    "                        'Ymin':Ymin,\n",
    "                        'Xmax': Xmax,\n",
    "                        'Ymax':Ymax})"
   ]
  },
  {
   "cell_type": "code",
   "execution_count": 30,
   "id": "db8102e8",
   "metadata": {},
   "outputs": [],
   "source": [
    "df.to_csv(\"HRC.csv\")"
   ]
  },
  {
   "cell_type": "code",
   "execution_count": null,
   "id": "279ff6d9",
   "metadata": {},
   "outputs": [],
   "source": [
    "b_unique = bs_data.find('filename')"
   ]
  }
 ],
 "metadata": {
  "kernelspec": {
   "display_name": "Python 3 (ipykernel)",
   "language": "python",
   "name": "python3"
  },
  "language_info": {
   "codemirror_mode": {
    "name": "ipython",
    "version": 3
   },
   "file_extension": ".py",
   "mimetype": "text/x-python",
   "name": "python",
   "nbconvert_exporter": "python",
   "pygments_lexer": "ipython3",
   "version": "3.8.5"
  }
 },
 "nbformat": 4,
 "nbformat_minor": 5
}
